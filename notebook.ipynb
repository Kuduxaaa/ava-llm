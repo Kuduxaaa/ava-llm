{
 "cells": [
  {
   "cell_type": "code",
   "execution_count": null,
   "id": "97042821",
   "metadata": {},
   "outputs": [],
   "source": [
    "import torch\n",
    "import torch.optim as optim\n",
    "\n",
    "from ava.config import AvaConfig\n",
    "from ava.model import AvaForCausalLM\n",
    "from ava.data.tokenizer import SimpleTokenizer\n",
    "from ava.data.data_utils import prepare_data_from_json\n",
    "\n",
    "from torch.utils.data import DataLoader\n",
    "from transformers import AutoTokenizer"
   ]
  },
  {
   "cell_type": "code",
   "execution_count": 2,
   "id": "e79f25b5",
   "metadata": {},
   "outputs": [],
   "source": [
    "tokenizer = SimpleTokenizer(AutoTokenizer.from_pretrained('gpt2'))\n",
    "config = AvaConfig(vocab_size = tokenizer.tokenizer.vocab_size)\n",
    "config.apply_for('small')\n",
    "\n",
    "device = torch.device('cuda' if torch.cuda.is_available() else 'cpu')\n",
    "model = AvaForCausalLM(config).to(device)"
   ]
  },
  {
   "cell_type": "code",
   "execution_count": 3,
   "id": "756ad836",
   "metadata": {},
   "outputs": [
    {
     "name": "stdout",
     "output_type": "stream",
     "text": [
      "Model has 129,109,248 parameters\n"
     ]
    }
   ],
   "source": [
    "num_params = sum(p.numel() for p in model.parameters())\n",
    "print(f'Model has {num_params:,} parameters')"
   ]
  },
  {
   "cell_type": "code",
   "execution_count": 4,
   "id": "c54d2bcb",
   "metadata": {},
   "outputs": [],
   "source": [
    "train_dataset, val_dataset = prepare_data_from_json(\n",
    "    './sample_dialogue_data.json', \n",
    "    tokenizer.tokenizer, \n",
    "    max_length = config.max_position_embeddings\n",
    ")"
   ]
  },
  {
   "cell_type": "code",
   "execution_count": 8,
   "id": "586fe734",
   "metadata": {},
   "outputs": [],
   "source": [
    "train_dataloader = DataLoader(\n",
    "    train_dataset,\n",
    "    batch_size=4,\n",
    "    shuffle=True\n",
    ")\n",
    "\n",
    "val_dataloader = DataLoader(\n",
    "    val_dataset,\n",
    "    batch_size=4,\n",
    "    shuffle=False\n",
    ")"
   ]
  },
  {
   "cell_type": "code",
   "execution_count": null,
   "id": "fbcf63b7",
   "metadata": {},
   "outputs": [],
   "source": [
    "optimizer = optim.AdamW(model.parameters(), lr=args.learning_rate)"
   ]
  },
  {
   "cell_type": "code",
   "execution_count": null,
   "id": "43196f2d",
   "metadata": {},
   "outputs": [],
   "source": [
    "total_steps = len(train_dataloader) * args.epochs\n",
    "\n",
    "scheduler = get_linear_schedule_with_warmup(\n",
    "    optimizer,\n",
    "    num_warmup_steps=int(0.1 * total_steps),\n",
    "    num_training_steps=total_steps\n",
    ")\n",
    "\n",
    "model = train_model(\n",
    "    model=model,\n",
    "    train_dataloader=train_dataloader,\n",
    "    optimizer=optimizer,\n",
    "    scheduler=scheduler,\n",
    "    num_epochs=args.epochs,\n",
    "    device=device,\n",
    "    eval_dataloader=val_dataloader\n",
    ")\n",
    "\n",
    "torch.save({\n",
    "    'model_state_dict': model.state_dict(),\n",
    "    'config': config.to_dict(),\n",
    "}, 'ava_model_final.pt')\n",
    "\n",
    "print(\"Training complete! Model saved as 'ava_model_final.pt'\")"
   ]
  }
 ],
 "metadata": {
  "kernelspec": {
   "display_name": "Python 3",
   "language": "python",
   "name": "python3"
  },
  "language_info": {
   "codemirror_mode": {
    "name": "ipython",
    "version": 3
   },
   "file_extension": ".py",
   "mimetype": "text/x-python",
   "name": "python",
   "nbconvert_exporter": "python",
   "pygments_lexer": "ipython3",
   "version": "3.13.2"
  }
 },
 "nbformat": 4,
 "nbformat_minor": 5
}
